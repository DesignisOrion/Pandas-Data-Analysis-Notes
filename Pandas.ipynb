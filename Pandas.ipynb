{
 "cells": [
  {
   "cell_type": "markdown",
   "metadata": {},
   "source": [
    "# NSE of India Data\n",
    "\n",
    "### Contents of Data \n",
    "\n",
    "The data is of National Stock Exchange of India's stock listings for each trading day of 2016 and 2017.\n",
    "A brief description of columns.\n",
    "SYMBOL: Symbol of the listed company.\n",
    "SERIES: Series of the equity. Values are [EQ, BE, BL, BT, GC and IL]\n",
    "OPEN: The opening market price of the equity symbol on the date.\n",
    "HIGH: The highest market price of the equity symbol on the date.\n",
    "LOW: The lowest recorded market price of the equity symbol on the date.\n",
    "CLOSE: The closing recorded price of the equity symbol on the date.\n",
    "LAST: The last traded price of the equity symbol on the date.\n",
    "PREVCLOSE: The previous day closing price of the equity symbol on the date.\n",
    "TOTTRDQTY: Total traded quantity of the equity symbol on the date.\n",
    "TOTTRDVAL: Total traded volume of the equity symbol on the date.\n",
    "TIMESTAMP: Date of record.\n",
    "TOTALTRADES: Total trades executed on the day.\n",
    "ISIN: International Securities Identification Number.\n",
    "\n",
    "All data is fetched from NSE official site.\n",
    "https://www.nseindia.com/\n",
    "\n"
   ]
  },
  {
   "cell_type": "code",
   "execution_count": null,
   "metadata": {},
   "outputs": [],
   "source": [
    "# Loading data into dataFrame\n",
    "import pandas as pd\n",
    "import matplotlib.pyplot as plt\n",
    "df = pd.read_csv('stocks.csv')\n",
    "\n",
    "print(df)"
   ]
  },
  {
   "cell_type": "code",
   "execution_count": null,
   "metadata": {},
   "outputs": [],
   "source": [
    "print(df.head(10)) # wanted to see the first 10 stocks on the NSE datalist."
   ]
  },
  {
   "cell_type": "code",
   "execution_count": null,
   "metadata": {},
   "outputs": [],
   "source": [
    "print(df.tail(5)) # wanted to see the last 5 (default) stocks on the NSE datalist."
   ]
  },
  {
   "cell_type": "code",
   "execution_count": null,
   "metadata": {},
   "outputs": [],
   "source": [
    "# Read Data\n",
    "### Read Headers\n",
    "print (df.columns)\n",
    "\n",
    "### Read each column\n",
    "print(df['SYMBOL'])"
   ]
  },
  {
   "cell_type": "code",
   "execution_count": null,
   "metadata": {},
   "outputs": [],
   "source": [
    "# Let's focus on the first 5 stocks. \n",
    "print(df['SYMBOL'][0:5]) "
   ]
  },
  {
   "cell_type": "code",
   "execution_count": null,
   "metadata": {},
   "outputs": [],
   "source": [
    "# Now let's look at 'Open' and 'Close' columns as well\n",
    "print(df[['SYMBOL', 'OPEN', 'CLOSE']][0:5])"
   ]
  },
  {
   "cell_type": "markdown",
   "metadata": {},
   "source": [
    "# Read Each Row"
   ]
  },
  {
   "cell_type": "code",
   "execution_count": null,
   "metadata": {},
   "outputs": [],
   "source": [
    "\n",
    "#print(df.iloc[1:4])\n",
    "\n",
    "# Another option\n",
    "#for index, row in df.iterrows():\n",
    "   # print(index, row['SYMBOL'])\n",
    "    \n",
    "# let's focus on stocks only having an High of 200.00 +\n",
    "#df.loc[df['SYMBOL'] == ]\n"
   ]
  },
  {
   "cell_type": "markdown",
   "metadata": {},
   "source": [
    "# Sorting Values"
   ]
  },
  {
   "cell_type": "code",
   "execution_count": null,
   "metadata": {},
   "outputs": [],
   "source": [
    "# Sorting & Describing Data\n",
    "# gives us the high level mean, standard deviation stats.\n",
    "df.describe()"
   ]
  },
  {
   "cell_type": "code",
   "execution_count": null,
   "metadata": {},
   "outputs": [],
   "source": [
    "# print DataFrame again\n",
    "df"
   ]
  },
  {
   "cell_type": "code",
   "execution_count": null,
   "metadata": {},
   "outputs": [],
   "source": [
    "df.sort_values('SYMBOL', ascending=True)\n",
    "# df.sort_values(['SYMBOL', 'OPEN'], ascending=False)\n",
    "# df.sort_values(['SYMBOL','OPEN'], ascending=[1,0]) # means Symbol will go from A-Z whereas Open will go from high to low."
   ]
  },
  {
   "cell_type": "markdown",
   "metadata": {},
   "source": [
    "# Making Changes to the Data"
   ]
  },
  {
   "cell_type": "code",
   "execution_count": null,
   "metadata": {},
   "outputs": [],
   "source": [
    "df.head(5)"
   ]
  },
  {
   "cell_type": "code",
   "execution_count": null,
   "metadata": {},
   "outputs": [],
   "source": [
    "# Now let's make a column that shows the total of each row HIGH and LOW values\n",
    "df['Total'] = df['HIGH'] + df['LOW']\n",
    "df.head()\n",
    "# Testing the total to confirm its working \n",
    "# 37.80 + 36.15 = 73.95"
   ]
  },
  {
   "cell_type": "code",
   "execution_count": null,
   "metadata": {},
   "outputs": [],
   "source": [
    "# allows us to drop that total column\n",
    "#df = df.drop(columns=['Total'])"
   ]
  },
  {
   "cell_type": "code",
   "execution_count": null,
   "metadata": {},
   "outputs": [],
   "source": [
    "df.head()"
   ]
  },
  {
   "cell_type": "code",
   "execution_count": null,
   "metadata": {},
   "outputs": [],
   "source": [
    "#df['Total'] = df.iloc[:, 4:6].sum(axis=1) # axis=1 (x axis) || axis=0 (y axis)\n",
    "#df.head()\n",
    "# Again be sure to double check the sum"
   ]
  },
  {
   "cell_type": "markdown",
   "metadata": {},
   "source": [
    "# Saving Data To CSV"
   ]
  },
  {
   "cell_type": "code",
   "execution_count": null,
   "metadata": {},
   "outputs": [],
   "source": [
    "#df.to_csv('modified.csv')"
   ]
  },
  {
   "cell_type": "code",
   "execution_count": null,
   "metadata": {},
   "outputs": [],
   "source": [
    "# if you don't want the indexes to be included\n",
    "#df.to_csv('modified.csv', index = False)"
   ]
  },
  {
   "cell_type": "code",
   "execution_count": null,
   "metadata": {},
   "outputs": [],
   "source": [
    "# Let's save it to excell\n",
    "#df.to_excel('modified.xlsx', index= False)"
   ]
  },
  {
   "cell_type": "code",
   "execution_count": null,
   "metadata": {},
   "outputs": [],
   "source": []
  },
  {
   "cell_type": "code",
   "execution_count": null,
   "metadata": {},
   "outputs": [],
   "source": []
  }
 ],
 "metadata": {
  "kernelspec": {
   "display_name": "Python 3",
   "language": "python",
   "name": "python3"
  },
  "language_info": {
   "codemirror_mode": {
    "name": "ipython",
    "version": 3
   },
   "file_extension": ".py",
   "mimetype": "text/x-python",
   "name": "python",
   "nbconvert_exporter": "python",
   "pygments_lexer": "ipython3",
   "version": "3.7.6"
  }
 },
 "nbformat": 4,
 "nbformat_minor": 4
}
